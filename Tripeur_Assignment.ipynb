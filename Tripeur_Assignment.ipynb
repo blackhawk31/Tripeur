{
  "nbformat": 4,
  "nbformat_minor": 0,
  "metadata": {
    "colab": {
      "name": "Tripeue_v12.ipynb",
      "provenance": [],
      "collapsed_sections": [],
      "include_colab_link": true
    },
    "kernelspec": {
      "name": "python3",
      "display_name": "Python 3"
    }
  },
  "cells": [
    {
      "cell_type": "markdown",
      "metadata": {
        "id": "view-in-github",
        "colab_type": "text"
      },
      "source": [
        "<a href=\"https://colab.research.google.com/github/ssunwalka01/Tripeur/blob/master/Tripeur_Assignment.ipynb\" target=\"_parent\"><img src=\"https://colab.research.google.com/assets/colab-badge.svg\" alt=\"Open In Colab\"/></a>"
      ]
    },
    {
      "cell_type": "markdown",
      "metadata": {
        "id": "Sn978dJ87KgI",
        "colab_type": "text"
      },
      "source": [
        "**Welcome !! To my Preprocessing Noteboook**"
      ]
    },
    {
      "cell_type": "markdown",
      "metadata": {
        "id": "xjRdp9Fa7Y4F",
        "colab_type": "text"
      },
      "source": [
        "Importing the Libraries here..."
      ]
    },
    {
      "cell_type": "code",
      "metadata": {
        "id": "gCs8d7C_Qwy4",
        "colab_type": "code",
        "colab": {}
      },
      "source": [
        "import pandas as pd\n",
        "import numpy as np\n",
        "import re  # Importing regex library i.e. Regular Expressions"
      ],
      "execution_count": 0,
      "outputs": []
    },
    {
      "cell_type": "markdown",
      "metadata": {
        "id": "TYiN_pyD7ZSC",
        "colab_type": "text"
      },
      "source": [
        "- Reading the dataset"
      ]
    },
    {
      "cell_type": "code",
      "metadata": {
        "id": "e1gB5Kr371Q0",
        "colab_type": "code",
        "colab": {}
      },
      "source": [
        "data = pd.read_csv(\"/content/flight_Tripeur.csv\")"
      ],
      "execution_count": 0,
      "outputs": []
    },
    {
      "cell_type": "markdown",
      "metadata": {
        "id": "bHCm8pb_8VdQ",
        "colab_type": "text"
      },
      "source": [
        "##### Let's see the data"
      ]
    },
    {
      "cell_type": "code",
      "metadata": {
        "id": "NvRBv-Vu716N",
        "colab_type": "code",
        "colab": {
          "base_uri": "https://localhost:8080/",
          "height": 347
        },
        "outputId": "ea382803-cf69-4d5a-b82d-4604c31e4a73"
      },
      "source": [
        "data.head(10)"
      ],
      "execution_count": 132,
      "outputs": [
        {
          "output_type": "execute_result",
          "data": {
            "text/html": [
              "<div>\n",
              "<style scoped>\n",
              "    .dataframe tbody tr th:only-of-type {\n",
              "        vertical-align: middle;\n",
              "    }\n",
              "\n",
              "    .dataframe tbody tr th {\n",
              "        vertical-align: top;\n",
              "    }\n",
              "\n",
              "    .dataframe thead th {\n",
              "        text-align: right;\n",
              "    }\n",
              "</style>\n",
              "<table border=\"1\" class=\"dataframe\">\n",
              "  <thead>\n",
              "    <tr style=\"text-align: right;\">\n",
              "      <th></th>\n",
              "      <th>AIRLINE_CODE</th>\n",
              "      <th>FLIGHT_NO</th>\n",
              "      <th>STOPS</th>\n",
              "      <th>DEP_TIME</th>\n",
              "      <th>ARR_TIME</th>\n",
              "    </tr>\n",
              "  </thead>\n",
              "  <tbody>\n",
              "    <tr>\n",
              "      <th>0</th>\n",
              "      <td>9W</td>\n",
              "      <td>393</td>\n",
              "      <td>1</td>\n",
              "      <td>2018-09-19T22:45:00</td>\n",
              "      <td>2018-09-20T00:35:00</td>\n",
              "    </tr>\n",
              "    <tr>\n",
              "      <th>1</th>\n",
              "      <td>9W</td>\n",
              "      <td>444</td>\n",
              "      <td>1</td>\n",
              "      <td>2018-09-19T14:00:00</td>\n",
              "      <td>2018-09-19T15:50:00</td>\n",
              "    </tr>\n",
              "    <tr>\n",
              "      <th>2</th>\n",
              "      <td>9W</td>\n",
              "      <td>444</td>\n",
              "      <td>1</td>\n",
              "      <td>2018-09-19T14:00:00.000</td>\n",
              "      <td>2018-09-19T15:50:00.000</td>\n",
              "    </tr>\n",
              "    <tr>\n",
              "      <th>3</th>\n",
              "      <td>9W</td>\n",
              "      <td>393</td>\n",
              "      <td>1</td>\n",
              "      <td>2018-09-19T22:45:00.000</td>\n",
              "      <td>2018-09-20T00:35:00.000</td>\n",
              "    </tr>\n",
              "    <tr>\n",
              "      <th>4</th>\n",
              "      <td>AI</td>\n",
              "      <td>640</td>\n",
              "      <td>1</td>\n",
              "      <td>2018-09-19T06:45:00</td>\n",
              "      <td>2018-09-19T08:35:00</td>\n",
              "    </tr>\n",
              "    <tr>\n",
              "      <th>5</th>\n",
              "      <td>AI</td>\n",
              "      <td>640</td>\n",
              "      <td>1</td>\n",
              "      <td>2018-09-19T06:45:00.000</td>\n",
              "      <td>2018-09-19T08:35:00.000</td>\n",
              "    </tr>\n",
              "    <tr>\n",
              "      <th>6</th>\n",
              "      <td>9W</td>\n",
              "      <td>450</td>\n",
              "      <td>1</td>\n",
              "      <td>2018-09-19T11:35:00</td>\n",
              "      <td>2018-09-19T13:30:00</td>\n",
              "    </tr>\n",
              "    <tr>\n",
              "      <th>7</th>\n",
              "      <td>9W</td>\n",
              "      <td>444</td>\n",
              "      <td>1</td>\n",
              "      <td>2018-09-19T14:00:00.000</td>\n",
              "      <td>2018-09-19T15:50:00.000</td>\n",
              "    </tr>\n",
              "    <tr>\n",
              "      <th>8</th>\n",
              "      <td>9W</td>\n",
              "      <td>393</td>\n",
              "      <td>1</td>\n",
              "      <td>2018-09-19T22:45:00.000</td>\n",
              "      <td>2018-09-20T00:35:00.000</td>\n",
              "    </tr>\n",
              "    <tr>\n",
              "      <th>9</th>\n",
              "      <td>9W</td>\n",
              "      <td>450</td>\n",
              "      <td>1</td>\n",
              "      <td>2018-09-19T11:35:00.000</td>\n",
              "      <td>2018-09-19T13:30:00.000</td>\n",
              "    </tr>\n",
              "  </tbody>\n",
              "</table>\n",
              "</div>"
            ],
            "text/plain": [
              "  AIRLINE_CODE  FLIGHT_NO  ...                   DEP_TIME                  ARR_TIME\n",
              "0          9W         393  ...       2018-09-19T22:45:00        2018-09-20T00:35:00\n",
              "1          9W         444  ...       2018-09-19T14:00:00        2018-09-19T15:50:00\n",
              "2          9W         444  ...   2018-09-19T14:00:00.000    2018-09-19T15:50:00.000\n",
              "3          9W         393  ...   2018-09-19T22:45:00.000    2018-09-20T00:35:00.000\n",
              "4          AI         640  ...       2018-09-19T06:45:00        2018-09-19T08:35:00\n",
              "5          AI         640  ...   2018-09-19T06:45:00.000    2018-09-19T08:35:00.000\n",
              "6          9W         450  ...       2018-09-19T11:35:00        2018-09-19T13:30:00\n",
              "7          9W         444  ...   2018-09-19T14:00:00.000    2018-09-19T15:50:00.000\n",
              "8          9W         393  ...   2018-09-19T22:45:00.000    2018-09-20T00:35:00.000\n",
              "9          9W         450  ...   2018-09-19T11:35:00.000    2018-09-19T13:30:00.000\n",
              "\n",
              "[10 rows x 5 columns]"
            ]
          },
          "metadata": {
            "tags": []
          },
          "execution_count": 132
        }
      ]
    },
    {
      "cell_type": "code",
      "metadata": {
        "id": "bl4VED7B8-B8",
        "colab_type": "code",
        "colab": {
          "base_uri": "https://localhost:8080/",
          "height": 123
        },
        "outputId": "1c090339-1cfe-4da3-9b30-f552e12be8ff"
      },
      "source": [
        "# See the data-type\n",
        "print(data.dtypes)"
      ],
      "execution_count": 133,
      "outputs": [
        {
          "output_type": "stream",
          "text": [
            "AIRLINE_CODE    object\n",
            "FLIGHT_NO        int64\n",
            "STOPS            int64\n",
            "DEP_TIME        object\n",
            "ARR_TIME        object\n",
            "dtype: object\n"
          ],
          "name": "stdout"
        }
      ]
    },
    {
      "cell_type": "markdown",
      "metadata": {
        "id": "s3V8FIgP8VXQ",
        "colab_type": "text"
      },
      "source": [
        ""
      ]
    },
    {
      "cell_type": "code",
      "metadata": {
        "id": "n01cc5Og895Y",
        "colab_type": "code",
        "colab": {
          "base_uri": "https://localhost:8080/",
          "height": 287
        },
        "outputId": "670f2c4f-2ce0-49c4-83e1-46e58a933d77"
      },
      "source": [
        "# Giving the Central Tendencies Measure\n",
        "data.describe()"
      ],
      "execution_count": 134,
      "outputs": [
        {
          "output_type": "execute_result",
          "data": {
            "text/html": [
              "<div>\n",
              "<style scoped>\n",
              "    .dataframe tbody tr th:only-of-type {\n",
              "        vertical-align: middle;\n",
              "    }\n",
              "\n",
              "    .dataframe tbody tr th {\n",
              "        vertical-align: top;\n",
              "    }\n",
              "\n",
              "    .dataframe thead th {\n",
              "        text-align: right;\n",
              "    }\n",
              "</style>\n",
              "<table border=\"1\" class=\"dataframe\">\n",
              "  <thead>\n",
              "    <tr style=\"text-align: right;\">\n",
              "      <th></th>\n",
              "      <th>FLIGHT_NO</th>\n",
              "      <th>STOPS</th>\n",
              "    </tr>\n",
              "  </thead>\n",
              "  <tbody>\n",
              "    <tr>\n",
              "      <th>count</th>\n",
              "      <td>1.048575e+06</td>\n",
              "      <td>1.048575e+06</td>\n",
              "    </tr>\n",
              "    <tr>\n",
              "      <th>mean</th>\n",
              "      <td>1.043744e+03</td>\n",
              "      <td>1.807920e+00</td>\n",
              "    </tr>\n",
              "    <tr>\n",
              "      <th>std</th>\n",
              "      <td>1.526297e+03</td>\n",
              "      <td>5.739844e-01</td>\n",
              "    </tr>\n",
              "    <tr>\n",
              "      <th>min</th>\n",
              "      <td>1.000000e+01</td>\n",
              "      <td>1.000000e+00</td>\n",
              "    </tr>\n",
              "    <tr>\n",
              "      <th>25%</th>\n",
              "      <td>4.110000e+02</td>\n",
              "      <td>1.000000e+00</td>\n",
              "    </tr>\n",
              "    <tr>\n",
              "      <th>50%</th>\n",
              "      <td>6.550000e+02</td>\n",
              "      <td>2.000000e+00</td>\n",
              "    </tr>\n",
              "    <tr>\n",
              "      <th>75%</th>\n",
              "      <td>8.660000e+02</td>\n",
              "      <td>2.000000e+00</td>\n",
              "    </tr>\n",
              "    <tr>\n",
              "      <th>max</th>\n",
              "      <td>9.902000e+03</td>\n",
              "      <td>6.000000e+00</td>\n",
              "    </tr>\n",
              "  </tbody>\n",
              "</table>\n",
              "</div>"
            ],
            "text/plain": [
              "          FLIGHT_NO         STOPS\n",
              "count  1.048575e+06  1.048575e+06\n",
              "mean   1.043744e+03  1.807920e+00\n",
              "std    1.526297e+03  5.739844e-01\n",
              "min    1.000000e+01  1.000000e+00\n",
              "25%    4.110000e+02  1.000000e+00\n",
              "50%    6.550000e+02  2.000000e+00\n",
              "75%    8.660000e+02  2.000000e+00\n",
              "max    9.902000e+03  6.000000e+00"
            ]
          },
          "metadata": {
            "tags": []
          },
          "execution_count": 134
        }
      ]
    },
    {
      "cell_type": "markdown",
      "metadata": {
        "id": "8N5F27Ak8VRS",
        "colab_type": "text"
      },
      "source": [
        "We have to preprocess the available dataset in the following form-"
      ]
    },
    {
      "cell_type": "markdown",
      "metadata": {
        "id": "khqMC50M8U7V",
        "colab_type": "text"
      },
      "source": [
        "![Preprocessing](https://drive.google.com/file/d/1lXX7oKPu-wrOBYoKG3vIBzDkFw8WeWJf/view?usp=sharing)"
      ]
    },
    {
      "cell_type": "markdown",
      "metadata": {
        "id": "AXhPCuzN-5z2",
        "colab_type": "text"
      },
      "source": [
        "- Make a new Column \"FLIGHT_KEY\" after Merging the \"AIRLINE_CODE\" and \"FLIGHT_NO\" columns.  "
      ]
    },
    {
      "cell_type": "code",
      "metadata": {
        "id": "iEVAo-Bn713O",
        "colab_type": "code",
        "colab": {}
      },
      "source": [
        "data['FLIGHT_KEY'] = data.apply(lambda row: str(row.AIRLINE_CODE)+'_'+str(row.FLIGHT_NO), axis = 1)"
      ],
      "execution_count": 0,
      "outputs": []
    },
    {
      "cell_type": "markdown",
      "metadata": {
        "id": "GT9psuvwDz5M",
        "colab_type": "text"
      },
      "source": [
        "- Now , I am going to split the observation like  2018-09-20T00:35:00.000 of \"DEP_TIME\" column into separate date and time fetures on the basis of split on 'T'."
      ]
    },
    {
      "cell_type": "code",
      "metadata": {
        "id": "SJOzTNdLDyqS",
        "colab_type": "code",
        "colab": {}
      },
      "source": [
        "data['DEP_TIME'] = data['DEP_TIME'].apply(lambda x : (x.split('T'))) # split() gives us the list of entries nows\n",
        "data['ARR_TIME'] = data['ARR_TIME'].apply(lambda x : (x.split('T')))"
      ],
      "execution_count": 0,
      "outputs": []
    },
    {
      "cell_type": "markdown",
      "metadata": {
        "id": "XvHBifaXErmb",
        "colab_type": "text"
      },
      "source": [
        "Making new columns for Date and Time respectively."
      ]
    },
    {
      "cell_type": "code",
      "metadata": {
        "id": "L6lF-833ESPX",
        "colab_type": "code",
        "colab": {}
      },
      "source": [
        "data['DEPT_DATE'] = data.apply(lambda row: row.DEP_TIME[0], axis = 1) \n",
        "data['DEPT_TIMING'] = data.apply(lambda row: row.DEP_TIME[1], axis = 1) "
      ],
      "execution_count": 0,
      "outputs": []
    },
    {
      "cell_type": "code",
      "metadata": {
        "id": "EGfFmTCcEvnA",
        "colab_type": "code",
        "colab": {}
      },
      "source": [
        "data['ARR_DATE'] = data.apply(lambda row: row.ARR_TIME[0], axis = 1) \n",
        "data['ARR_TIMING'] = data.apply(lambda row: row.ARR_TIME[1], axis = 1) "
      ],
      "execution_count": 0,
      "outputs": []
    },
    {
      "cell_type": "markdown",
      "metadata": {
        "id": "oLneMDArFTk3",
        "colab_type": "text"
      },
      "source": [
        "Let' see the dataset again.."
      ]
    },
    {
      "cell_type": "code",
      "metadata": {
        "id": "hXGHob0AEwHm",
        "colab_type": "code",
        "colab": {
          "base_uri": "https://localhost:8080/",
          "height": 281
        },
        "outputId": "6b42e74c-4407-4a1f-99f0-624f5677d73c"
      },
      "source": [
        "data.head()"
      ],
      "execution_count": 139,
      "outputs": [
        {
          "output_type": "execute_result",
          "data": {
            "text/html": [
              "<div>\n",
              "<style scoped>\n",
              "    .dataframe tbody tr th:only-of-type {\n",
              "        vertical-align: middle;\n",
              "    }\n",
              "\n",
              "    .dataframe tbody tr th {\n",
              "        vertical-align: top;\n",
              "    }\n",
              "\n",
              "    .dataframe thead th {\n",
              "        text-align: right;\n",
              "    }\n",
              "</style>\n",
              "<table border=\"1\" class=\"dataframe\">\n",
              "  <thead>\n",
              "    <tr style=\"text-align: right;\">\n",
              "      <th></th>\n",
              "      <th>AIRLINE_CODE</th>\n",
              "      <th>FLIGHT_NO</th>\n",
              "      <th>STOPS</th>\n",
              "      <th>DEP_TIME</th>\n",
              "      <th>ARR_TIME</th>\n",
              "      <th>FLIGHT_KEY</th>\n",
              "      <th>DEPT_DATE</th>\n",
              "      <th>DEPT_TIMING</th>\n",
              "      <th>ARR_DATE</th>\n",
              "      <th>ARR_TIMING</th>\n",
              "    </tr>\n",
              "  </thead>\n",
              "  <tbody>\n",
              "    <tr>\n",
              "      <th>0</th>\n",
              "      <td>9W</td>\n",
              "      <td>393</td>\n",
              "      <td>1</td>\n",
              "      <td>[ 2018-09-19, 22:45:00 ]</td>\n",
              "      <td>[ 2018-09-20, 00:35:00]</td>\n",
              "      <td>9W _393</td>\n",
              "      <td>2018-09-19</td>\n",
              "      <td>22:45:00</td>\n",
              "      <td>2018-09-20</td>\n",
              "      <td>00:35:00</td>\n",
              "    </tr>\n",
              "    <tr>\n",
              "      <th>1</th>\n",
              "      <td>9W</td>\n",
              "      <td>444</td>\n",
              "      <td>1</td>\n",
              "      <td>[ 2018-09-19, 14:00:00 ]</td>\n",
              "      <td>[ 2018-09-19, 15:50:00]</td>\n",
              "      <td>9W _444</td>\n",
              "      <td>2018-09-19</td>\n",
              "      <td>14:00:00</td>\n",
              "      <td>2018-09-19</td>\n",
              "      <td>15:50:00</td>\n",
              "    </tr>\n",
              "    <tr>\n",
              "      <th>2</th>\n",
              "      <td>9W</td>\n",
              "      <td>444</td>\n",
              "      <td>1</td>\n",
              "      <td>[ 2018-09-19, 14:00:00.000 ]</td>\n",
              "      <td>[ 2018-09-19, 15:50:00.000]</td>\n",
              "      <td>9W _444</td>\n",
              "      <td>2018-09-19</td>\n",
              "      <td>14:00:00.000</td>\n",
              "      <td>2018-09-19</td>\n",
              "      <td>15:50:00.000</td>\n",
              "    </tr>\n",
              "    <tr>\n",
              "      <th>3</th>\n",
              "      <td>9W</td>\n",
              "      <td>393</td>\n",
              "      <td>1</td>\n",
              "      <td>[ 2018-09-19, 22:45:00.000 ]</td>\n",
              "      <td>[ 2018-09-20, 00:35:00.000]</td>\n",
              "      <td>9W _393</td>\n",
              "      <td>2018-09-19</td>\n",
              "      <td>22:45:00.000</td>\n",
              "      <td>2018-09-20</td>\n",
              "      <td>00:35:00.000</td>\n",
              "    </tr>\n",
              "    <tr>\n",
              "      <th>4</th>\n",
              "      <td>AI</td>\n",
              "      <td>640</td>\n",
              "      <td>1</td>\n",
              "      <td>[ 2018-09-19, 06:45:00 ]</td>\n",
              "      <td>[ 2018-09-19, 08:35:00]</td>\n",
              "      <td>AI _640</td>\n",
              "      <td>2018-09-19</td>\n",
              "      <td>06:45:00</td>\n",
              "      <td>2018-09-19</td>\n",
              "      <td>08:35:00</td>\n",
              "    </tr>\n",
              "  </tbody>\n",
              "</table>\n",
              "</div>"
            ],
            "text/plain": [
              "  AIRLINE_CODE  FLIGHT_NO  STOPS  ...    DEPT_TIMING     ARR_DATE    ARR_TIMING\n",
              "0          9W         393      1  ...      22:45:00    2018-09-20      00:35:00\n",
              "1          9W         444      1  ...      14:00:00    2018-09-19      15:50:00\n",
              "2          9W         444      1  ...  14:00:00.000    2018-09-19  15:50:00.000\n",
              "3          9W         393      1  ...  22:45:00.000    2018-09-20  00:35:00.000\n",
              "4          AI         640      1  ...      06:45:00    2018-09-19      08:35:00\n",
              "\n",
              "[5 rows x 10 columns]"
            ]
          },
          "metadata": {
            "tags": []
          },
          "execution_count": 139
        }
      ]
    },
    {
      "cell_type": "markdown",
      "metadata": {
        "id": "eJMl8_7qKJEl",
        "colab_type": "text"
      },
      "source": [
        "- Here, we could have used regex to re.split(\"operator1 | operator2\") to split the entry for multiple delimiters, but, \".\" is present which is used as an Metacharacter (Use-Any character (except newline character)) in regex. So, I am going with a different approach.\n",
        "\n",
        "- Replace \" . \" with \" : \" and then split using split() function"
      ]
    },
    {
      "cell_type": "code",
      "metadata": {
        "id": "ColJthZREwAi",
        "colab_type": "code",
        "colab": {}
      },
      "source": [
        "data['DEPT_TIMING'] = data.apply(lambda row: str(row.DEPT_TIMING).replace('.', ':'), axis = 1)\n",
        "data['ARR_TIMING'] = data.apply(lambda row: str(row.ARR_TIMING).replace('.', ':'), axis = 1)"
      ],
      "execution_count": 0,
      "outputs": []
    },
    {
      "cell_type": "code",
      "metadata": {
        "id": "QA1LrrOWJiG9",
        "colab_type": "code",
        "colab": {}
      },
      "source": [
        "data['DEPT_TIMING'] = data['DEPT_TIMING'].apply(lambda x : (x.split(':'))) # split() gives us the list of entries nows\n",
        "data['ARR_TIMING'] = data['ARR_TIMING'].apply(lambda x : (x.split(':')))"
      ],
      "execution_count": 0,
      "outputs": []
    },
    {
      "cell_type": "code",
      "metadata": {
        "id": "z4JWFLhBKCbE",
        "colab_type": "code",
        "colab": {
          "base_uri": "https://localhost:8080/",
          "height": 230
        },
        "outputId": "afd87342-4bff-423f-c6b3-4bb2c93f9941"
      },
      "source": [
        "data['ARR_TIMING']"
      ],
      "execution_count": 142,
      "outputs": [
        {
          "output_type": "execute_result",
          "data": {
            "text/plain": [
              "0               [00, 35, 00]\n",
              "1               [15, 50, 00]\n",
              "2          [15, 50, 00, 000]\n",
              "3          [00, 35, 00, 000]\n",
              "4               [08, 35, 00]\n",
              "                 ...        \n",
              "1048570    [16, 20, 00, 000]\n",
              "1048571    [18, 15, 00, 000]\n",
              "1048572    [09, 25, 00, 000]\n",
              "1048573    [10, 20, 00, 000]\n",
              "1048574    [18, 15, 00, 000]\n",
              "Name: ARR_TIMING, Length: 1048575, dtype: object"
            ]
          },
          "metadata": {
            "tags": []
          },
          "execution_count": 142
        }
      ]
    },
    {
      "cell_type": "markdown",
      "metadata": {
        "id": "-abcsuMlvLnQ",
        "colab_type": "text"
      },
      "source": [
        "- As, we can see we have got a list of entries. Now, I am going to join them which will result in entries without \" : \" "
      ]
    },
    {
      "cell_type": "code",
      "metadata": {
        "id": "sMKXdHZngv9U",
        "colab_type": "code",
        "colab": {}
      },
      "source": [
        "data['DEPT_TIMING'] = data.apply(lambda x: (''.join(x.DEPT_TIMING)), axis = 1)\n",
        "data['ARR_TIMING'] = data.apply(lambda x: (''.join(x.ARR_TIMING)), axis = 1)"
      ],
      "execution_count": 0,
      "outputs": []
    },
    {
      "cell_type": "code",
      "metadata": {
        "id": "eZeDyOW2jym6",
        "colab_type": "code",
        "colab": {
          "base_uri": "https://localhost:8080/",
          "height": 230
        },
        "outputId": "7050599e-114b-4b91-addf-9dada80d4dcb"
      },
      "source": [
        "data['DEPT_TIMING']"
      ],
      "execution_count": 144,
      "outputs": [
        {
          "output_type": "execute_result",
          "data": {
            "text/plain": [
              "0             224500 \n",
              "1             140000 \n",
              "2          140000000 \n",
              "3          224500000 \n",
              "4             064500 \n",
              "              ...    \n",
              "1048570    100000000 \n",
              "1048571    113000000 \n",
              "1048572    022500000 \n",
              "1048573    022500000 \n",
              "1048574    100000000 \n",
              "Name: DEPT_TIMING, Length: 1048575, dtype: object"
            ]
          },
          "metadata": {
            "tags": []
          },
          "execution_count": 144
        }
      ]
    },
    {
      "cell_type": "code",
      "metadata": {
        "id": "Pzp2xn22rZfj",
        "colab_type": "code",
        "colab": {
          "base_uri": "https://localhost:8080/",
          "height": 230
        },
        "outputId": "0e04481a-6150-4be4-c352-a0c9b3cda7c6"
      },
      "source": [
        "data['ARR_TIMING']"
      ],
      "execution_count": 145,
      "outputs": [
        {
          "output_type": "execute_result",
          "data": {
            "text/plain": [
              "0             003500\n",
              "1             155000\n",
              "2          155000000\n",
              "3          003500000\n",
              "4             083500\n",
              "             ...    \n",
              "1048570    162000000\n",
              "1048571    181500000\n",
              "1048572    092500000\n",
              "1048573    102000000\n",
              "1048574    181500000\n",
              "Name: ARR_TIMING, Length: 1048575, dtype: object"
            ]
          },
          "metadata": {
            "tags": []
          },
          "execution_count": 145
        }
      ]
    },
    {
      "cell_type": "markdown",
      "metadata": {
        "id": "kxMHrh3cvdrt",
        "colab_type": "text"
      },
      "source": [
        "- Here, Now I need to remove the Trailing Zeroes from the entries. On Analysis,I also found that there was whitespaces present after 0's. So, if we only use rstrip(\"0\") to remove trailing zeroes we will not get the expected output and hence I am using rspilt(\"0| \")."
      ]
    },
    {
      "cell_type": "code",
      "metadata": {
        "id": "SEG8CPlhp1bi",
        "colab_type": "code",
        "colab": {}
      },
      "source": [
        "data['ARR_TIMING'] = data['ARR_TIMING'].str.rstrip(\"0| \")\n",
        "data['DEPT_TIMING'] = data['DEPT_TIMING'].str.rstrip(\"0| \")"
      ],
      "execution_count": 0,
      "outputs": []
    },
    {
      "cell_type": "code",
      "metadata": {
        "id": "G1uXQS0brl2e",
        "colab_type": "code",
        "colab": {
          "base_uri": "https://localhost:8080/",
          "height": 514
        },
        "outputId": "5c55b5b2-dcc2-4280-e367-027af69f798c"
      },
      "source": [
        "data.head(10)"
      ],
      "execution_count": 147,
      "outputs": [
        {
          "output_type": "execute_result",
          "data": {
            "text/html": [
              "<div>\n",
              "<style scoped>\n",
              "    .dataframe tbody tr th:only-of-type {\n",
              "        vertical-align: middle;\n",
              "    }\n",
              "\n",
              "    .dataframe tbody tr th {\n",
              "        vertical-align: top;\n",
              "    }\n",
              "\n",
              "    .dataframe thead th {\n",
              "        text-align: right;\n",
              "    }\n",
              "</style>\n",
              "<table border=\"1\" class=\"dataframe\">\n",
              "  <thead>\n",
              "    <tr style=\"text-align: right;\">\n",
              "      <th></th>\n",
              "      <th>AIRLINE_CODE</th>\n",
              "      <th>FLIGHT_NO</th>\n",
              "      <th>STOPS</th>\n",
              "      <th>DEP_TIME</th>\n",
              "      <th>ARR_TIME</th>\n",
              "      <th>FLIGHT_KEY</th>\n",
              "      <th>DEPT_DATE</th>\n",
              "      <th>DEPT_TIMING</th>\n",
              "      <th>ARR_DATE</th>\n",
              "      <th>ARR_TIMING</th>\n",
              "    </tr>\n",
              "  </thead>\n",
              "  <tbody>\n",
              "    <tr>\n",
              "      <th>0</th>\n",
              "      <td>9W</td>\n",
              "      <td>393</td>\n",
              "      <td>1</td>\n",
              "      <td>[ 2018-09-19, 22:45:00 ]</td>\n",
              "      <td>[ 2018-09-20, 00:35:00]</td>\n",
              "      <td>9W _393</td>\n",
              "      <td>2018-09-19</td>\n",
              "      <td>2245</td>\n",
              "      <td>2018-09-20</td>\n",
              "      <td>0035</td>\n",
              "    </tr>\n",
              "    <tr>\n",
              "      <th>1</th>\n",
              "      <td>9W</td>\n",
              "      <td>444</td>\n",
              "      <td>1</td>\n",
              "      <td>[ 2018-09-19, 14:00:00 ]</td>\n",
              "      <td>[ 2018-09-19, 15:50:00]</td>\n",
              "      <td>9W _444</td>\n",
              "      <td>2018-09-19</td>\n",
              "      <td>14</td>\n",
              "      <td>2018-09-19</td>\n",
              "      <td>155</td>\n",
              "    </tr>\n",
              "    <tr>\n",
              "      <th>2</th>\n",
              "      <td>9W</td>\n",
              "      <td>444</td>\n",
              "      <td>1</td>\n",
              "      <td>[ 2018-09-19, 14:00:00.000 ]</td>\n",
              "      <td>[ 2018-09-19, 15:50:00.000]</td>\n",
              "      <td>9W _444</td>\n",
              "      <td>2018-09-19</td>\n",
              "      <td>14</td>\n",
              "      <td>2018-09-19</td>\n",
              "      <td>155</td>\n",
              "    </tr>\n",
              "    <tr>\n",
              "      <th>3</th>\n",
              "      <td>9W</td>\n",
              "      <td>393</td>\n",
              "      <td>1</td>\n",
              "      <td>[ 2018-09-19, 22:45:00.000 ]</td>\n",
              "      <td>[ 2018-09-20, 00:35:00.000]</td>\n",
              "      <td>9W _393</td>\n",
              "      <td>2018-09-19</td>\n",
              "      <td>2245</td>\n",
              "      <td>2018-09-20</td>\n",
              "      <td>0035</td>\n",
              "    </tr>\n",
              "    <tr>\n",
              "      <th>4</th>\n",
              "      <td>AI</td>\n",
              "      <td>640</td>\n",
              "      <td>1</td>\n",
              "      <td>[ 2018-09-19, 06:45:00 ]</td>\n",
              "      <td>[ 2018-09-19, 08:35:00]</td>\n",
              "      <td>AI _640</td>\n",
              "      <td>2018-09-19</td>\n",
              "      <td>0645</td>\n",
              "      <td>2018-09-19</td>\n",
              "      <td>0835</td>\n",
              "    </tr>\n",
              "    <tr>\n",
              "      <th>5</th>\n",
              "      <td>AI</td>\n",
              "      <td>640</td>\n",
              "      <td>1</td>\n",
              "      <td>[ 2018-09-19, 06:45:00.000 ]</td>\n",
              "      <td>[ 2018-09-19, 08:35:00.000]</td>\n",
              "      <td>AI _640</td>\n",
              "      <td>2018-09-19</td>\n",
              "      <td>0645</td>\n",
              "      <td>2018-09-19</td>\n",
              "      <td>0835</td>\n",
              "    </tr>\n",
              "    <tr>\n",
              "      <th>6</th>\n",
              "      <td>9W</td>\n",
              "      <td>450</td>\n",
              "      <td>1</td>\n",
              "      <td>[ 2018-09-19, 11:35:00 ]</td>\n",
              "      <td>[ 2018-09-19, 13:30:00]</td>\n",
              "      <td>9W _450</td>\n",
              "      <td>2018-09-19</td>\n",
              "      <td>1135</td>\n",
              "      <td>2018-09-19</td>\n",
              "      <td>133</td>\n",
              "    </tr>\n",
              "    <tr>\n",
              "      <th>7</th>\n",
              "      <td>9W</td>\n",
              "      <td>444</td>\n",
              "      <td>1</td>\n",
              "      <td>[ 2018-09-19, 14:00:00.000 ]</td>\n",
              "      <td>[ 2018-09-19, 15:50:00.000]</td>\n",
              "      <td>9W _444</td>\n",
              "      <td>2018-09-19</td>\n",
              "      <td>14</td>\n",
              "      <td>2018-09-19</td>\n",
              "      <td>155</td>\n",
              "    </tr>\n",
              "    <tr>\n",
              "      <th>8</th>\n",
              "      <td>9W</td>\n",
              "      <td>393</td>\n",
              "      <td>1</td>\n",
              "      <td>[ 2018-09-19, 22:45:00.000 ]</td>\n",
              "      <td>[ 2018-09-20, 00:35:00.000]</td>\n",
              "      <td>9W _393</td>\n",
              "      <td>2018-09-19</td>\n",
              "      <td>2245</td>\n",
              "      <td>2018-09-20</td>\n",
              "      <td>0035</td>\n",
              "    </tr>\n",
              "    <tr>\n",
              "      <th>9</th>\n",
              "      <td>9W</td>\n",
              "      <td>450</td>\n",
              "      <td>1</td>\n",
              "      <td>[ 2018-09-19, 11:35:00.000 ]</td>\n",
              "      <td>[ 2018-09-19, 13:30:00.000]</td>\n",
              "      <td>9W _450</td>\n",
              "      <td>2018-09-19</td>\n",
              "      <td>1135</td>\n",
              "      <td>2018-09-19</td>\n",
              "      <td>133</td>\n",
              "    </tr>\n",
              "  </tbody>\n",
              "</table>\n",
              "</div>"
            ],
            "text/plain": [
              "  AIRLINE_CODE  FLIGHT_NO  STOPS  ... DEPT_TIMING     ARR_DATE ARR_TIMING\n",
              "0          9W         393      1  ...        2245   2018-09-20       0035\n",
              "1          9W         444      1  ...          14   2018-09-19        155\n",
              "2          9W         444      1  ...          14   2018-09-19        155\n",
              "3          9W         393      1  ...        2245   2018-09-20       0035\n",
              "4          AI         640      1  ...        0645   2018-09-19       0835\n",
              "5          AI         640      1  ...        0645   2018-09-19       0835\n",
              "6          9W         450      1  ...        1135   2018-09-19        133\n",
              "7          9W         444      1  ...          14   2018-09-19        155\n",
              "8          9W         393      1  ...        2245   2018-09-20       0035\n",
              "9          9W         450      1  ...        1135   2018-09-19        133\n",
              "\n",
              "[10 rows x 10 columns]"
            ]
          },
          "metadata": {
            "tags": []
          },
          "execution_count": 147
        }
      ]
    },
    {
      "cell_type": "markdown",
      "metadata": {
        "id": "tCq0rxDZwGIQ",
        "colab_type": "text"
      },
      "source": [
        "- Awesome!! Now, we only need ('FLIGHT_KEY', 'AIRLINE_CODE', 'STOPS', 'DEPT_TIMING', 'ARR_TIMING') columns in the final data followed by renaming DEPT_TIMING and ARR_TIMING as DEP_TIME, ARR_TIME respectively."
      ]
    },
    {
      "cell_type": "code",
      "metadata": {
        "id": "3fXgbFZ0rys0",
        "colab_type": "code",
        "colab": {}
      },
      "source": [
        "data_final = data.loc[:,['FLIGHT_KEY', 'AIRLINE_CODE', 'STOPS', 'DEPT_TIMING', 'ARR_TIMING']]"
      ],
      "execution_count": 0,
      "outputs": []
    },
    {
      "cell_type": "code",
      "metadata": {
        "id": "lNVpvYmVrypL",
        "colab_type": "code",
        "colab": {
          "base_uri": "https://localhost:8080/",
          "height": 347
        },
        "outputId": "240699c3-65a7-480c-981e-11ed9b1f2908"
      },
      "source": [
        "data_final.head(10)"
      ],
      "execution_count": 149,
      "outputs": [
        {
          "output_type": "execute_result",
          "data": {
            "text/html": [
              "<div>\n",
              "<style scoped>\n",
              "    .dataframe tbody tr th:only-of-type {\n",
              "        vertical-align: middle;\n",
              "    }\n",
              "\n",
              "    .dataframe tbody tr th {\n",
              "        vertical-align: top;\n",
              "    }\n",
              "\n",
              "    .dataframe thead th {\n",
              "        text-align: right;\n",
              "    }\n",
              "</style>\n",
              "<table border=\"1\" class=\"dataframe\">\n",
              "  <thead>\n",
              "    <tr style=\"text-align: right;\">\n",
              "      <th></th>\n",
              "      <th>FLIGHT_KEY</th>\n",
              "      <th>AIRLINE_CODE</th>\n",
              "      <th>STOPS</th>\n",
              "      <th>DEPT_TIMING</th>\n",
              "      <th>ARR_TIMING</th>\n",
              "    </tr>\n",
              "  </thead>\n",
              "  <tbody>\n",
              "    <tr>\n",
              "      <th>0</th>\n",
              "      <td>9W _393</td>\n",
              "      <td>9W</td>\n",
              "      <td>1</td>\n",
              "      <td>2245</td>\n",
              "      <td>0035</td>\n",
              "    </tr>\n",
              "    <tr>\n",
              "      <th>1</th>\n",
              "      <td>9W _444</td>\n",
              "      <td>9W</td>\n",
              "      <td>1</td>\n",
              "      <td>14</td>\n",
              "      <td>155</td>\n",
              "    </tr>\n",
              "    <tr>\n",
              "      <th>2</th>\n",
              "      <td>9W _444</td>\n",
              "      <td>9W</td>\n",
              "      <td>1</td>\n",
              "      <td>14</td>\n",
              "      <td>155</td>\n",
              "    </tr>\n",
              "    <tr>\n",
              "      <th>3</th>\n",
              "      <td>9W _393</td>\n",
              "      <td>9W</td>\n",
              "      <td>1</td>\n",
              "      <td>2245</td>\n",
              "      <td>0035</td>\n",
              "    </tr>\n",
              "    <tr>\n",
              "      <th>4</th>\n",
              "      <td>AI _640</td>\n",
              "      <td>AI</td>\n",
              "      <td>1</td>\n",
              "      <td>0645</td>\n",
              "      <td>0835</td>\n",
              "    </tr>\n",
              "    <tr>\n",
              "      <th>5</th>\n",
              "      <td>AI _640</td>\n",
              "      <td>AI</td>\n",
              "      <td>1</td>\n",
              "      <td>0645</td>\n",
              "      <td>0835</td>\n",
              "    </tr>\n",
              "    <tr>\n",
              "      <th>6</th>\n",
              "      <td>9W _450</td>\n",
              "      <td>9W</td>\n",
              "      <td>1</td>\n",
              "      <td>1135</td>\n",
              "      <td>133</td>\n",
              "    </tr>\n",
              "    <tr>\n",
              "      <th>7</th>\n",
              "      <td>9W _444</td>\n",
              "      <td>9W</td>\n",
              "      <td>1</td>\n",
              "      <td>14</td>\n",
              "      <td>155</td>\n",
              "    </tr>\n",
              "    <tr>\n",
              "      <th>8</th>\n",
              "      <td>9W _393</td>\n",
              "      <td>9W</td>\n",
              "      <td>1</td>\n",
              "      <td>2245</td>\n",
              "      <td>0035</td>\n",
              "    </tr>\n",
              "    <tr>\n",
              "      <th>9</th>\n",
              "      <td>9W _450</td>\n",
              "      <td>9W</td>\n",
              "      <td>1</td>\n",
              "      <td>1135</td>\n",
              "      <td>133</td>\n",
              "    </tr>\n",
              "  </tbody>\n",
              "</table>\n",
              "</div>"
            ],
            "text/plain": [
              "  FLIGHT_KEY AIRLINE_CODE  STOPS DEPT_TIMING ARR_TIMING\n",
              "0    9W _393          9W       1        2245       0035\n",
              "1    9W _444          9W       1          14        155\n",
              "2    9W _444          9W       1          14        155\n",
              "3    9W _393          9W       1        2245       0035\n",
              "4    AI _640          AI       1        0645       0835\n",
              "5    AI _640          AI       1        0645       0835\n",
              "6    9W _450          9W       1        1135        133\n",
              "7    9W _444          9W       1          14        155\n",
              "8    9W _393          9W       1        2245       0035\n",
              "9    9W _450          9W       1        1135        133"
            ]
          },
          "metadata": {
            "tags": []
          },
          "execution_count": 149
        }
      ]
    },
    {
      "cell_type": "code",
      "metadata": {
        "id": "Y_zQ2BqzrylK",
        "colab_type": "code",
        "colab": {}
      },
      "source": [
        "data_final = data_final.rename(columns= {\"DEPT_TIMING\" : \"DEP_TIME\", \"ARR_TIMING\" : \"ARR_TIME\"})"
      ],
      "execution_count": 0,
      "outputs": []
    },
    {
      "cell_type": "code",
      "metadata": {
        "id": "Vt8hNT3Eryht",
        "colab_type": "code",
        "colab": {
          "base_uri": "https://localhost:8080/",
          "height": 347
        },
        "outputId": "febddb48-5367-4ccb-881c-af917dc7a8f3"
      },
      "source": [
        "data_final.head(10)"
      ],
      "execution_count": 151,
      "outputs": [
        {
          "output_type": "execute_result",
          "data": {
            "text/html": [
              "<div>\n",
              "<style scoped>\n",
              "    .dataframe tbody tr th:only-of-type {\n",
              "        vertical-align: middle;\n",
              "    }\n",
              "\n",
              "    .dataframe tbody tr th {\n",
              "        vertical-align: top;\n",
              "    }\n",
              "\n",
              "    .dataframe thead th {\n",
              "        text-align: right;\n",
              "    }\n",
              "</style>\n",
              "<table border=\"1\" class=\"dataframe\">\n",
              "  <thead>\n",
              "    <tr style=\"text-align: right;\">\n",
              "      <th></th>\n",
              "      <th>FLIGHT_KEY</th>\n",
              "      <th>AIRLINE_CODE</th>\n",
              "      <th>STOPS</th>\n",
              "      <th>DEP_TIME</th>\n",
              "      <th>ARR_TIME</th>\n",
              "    </tr>\n",
              "  </thead>\n",
              "  <tbody>\n",
              "    <tr>\n",
              "      <th>0</th>\n",
              "      <td>9W _393</td>\n",
              "      <td>9W</td>\n",
              "      <td>1</td>\n",
              "      <td>2245</td>\n",
              "      <td>0035</td>\n",
              "    </tr>\n",
              "    <tr>\n",
              "      <th>1</th>\n",
              "      <td>9W _444</td>\n",
              "      <td>9W</td>\n",
              "      <td>1</td>\n",
              "      <td>14</td>\n",
              "      <td>155</td>\n",
              "    </tr>\n",
              "    <tr>\n",
              "      <th>2</th>\n",
              "      <td>9W _444</td>\n",
              "      <td>9W</td>\n",
              "      <td>1</td>\n",
              "      <td>14</td>\n",
              "      <td>155</td>\n",
              "    </tr>\n",
              "    <tr>\n",
              "      <th>3</th>\n",
              "      <td>9W _393</td>\n",
              "      <td>9W</td>\n",
              "      <td>1</td>\n",
              "      <td>2245</td>\n",
              "      <td>0035</td>\n",
              "    </tr>\n",
              "    <tr>\n",
              "      <th>4</th>\n",
              "      <td>AI _640</td>\n",
              "      <td>AI</td>\n",
              "      <td>1</td>\n",
              "      <td>0645</td>\n",
              "      <td>0835</td>\n",
              "    </tr>\n",
              "    <tr>\n",
              "      <th>5</th>\n",
              "      <td>AI _640</td>\n",
              "      <td>AI</td>\n",
              "      <td>1</td>\n",
              "      <td>0645</td>\n",
              "      <td>0835</td>\n",
              "    </tr>\n",
              "    <tr>\n",
              "      <th>6</th>\n",
              "      <td>9W _450</td>\n",
              "      <td>9W</td>\n",
              "      <td>1</td>\n",
              "      <td>1135</td>\n",
              "      <td>133</td>\n",
              "    </tr>\n",
              "    <tr>\n",
              "      <th>7</th>\n",
              "      <td>9W _444</td>\n",
              "      <td>9W</td>\n",
              "      <td>1</td>\n",
              "      <td>14</td>\n",
              "      <td>155</td>\n",
              "    </tr>\n",
              "    <tr>\n",
              "      <th>8</th>\n",
              "      <td>9W _393</td>\n",
              "      <td>9W</td>\n",
              "      <td>1</td>\n",
              "      <td>2245</td>\n",
              "      <td>0035</td>\n",
              "    </tr>\n",
              "    <tr>\n",
              "      <th>9</th>\n",
              "      <td>9W _450</td>\n",
              "      <td>9W</td>\n",
              "      <td>1</td>\n",
              "      <td>1135</td>\n",
              "      <td>133</td>\n",
              "    </tr>\n",
              "  </tbody>\n",
              "</table>\n",
              "</div>"
            ],
            "text/plain": [
              "  FLIGHT_KEY AIRLINE_CODE  STOPS DEP_TIME ARR_TIME\n",
              "0    9W _393          9W       1     2245     0035\n",
              "1    9W _444          9W       1       14      155\n",
              "2    9W _444          9W       1       14      155\n",
              "3    9W _393          9W       1     2245     0035\n",
              "4    AI _640          AI       1     0645     0835\n",
              "5    AI _640          AI       1     0645     0835\n",
              "6    9W _450          9W       1     1135      133\n",
              "7    9W _444          9W       1       14      155\n",
              "8    9W _393          9W       1     2245     0035\n",
              "9    9W _450          9W       1     1135      133"
            ]
          },
          "metadata": {
            "tags": []
          },
          "execution_count": 151
        }
      ]
    },
    {
      "cell_type": "markdown",
      "metadata": {
        "id": "qZENm-JAwyyj",
        "colab_type": "text"
      },
      "source": [
        "# Wohoo !! We got the desired OUTPUT."
      ]
    },
    {
      "cell_type": "markdown",
      "metadata": {
        "id": "cShmkcd6w2f9",
        "colab_type": "text"
      },
      "source": [
        "- Saving into csv format"
      ]
    },
    {
      "cell_type": "code",
      "metadata": {
        "id": "KyB7wJPQMaZM",
        "colab_type": "code",
        "colab": {}
      },
      "source": [
        "data_final.to_csv('flight_Tripeur_Output.csv', index =False)"
      ],
      "execution_count": 0,
      "outputs": []
    },
    {
      "cell_type": "markdown",
      "metadata": {
        "id": "fyi7A9b2w8DI",
        "colab_type": "text"
      },
      "source": [
        "Thanks !!\n",
        "\n",
        "- PS: This Notebook belongs to SHUBHAM KUMAR SUNWALKA\n",
        "-  Dated: 08, November 2019\n",
        "\n",
        "\n",
        "---\n",
        "\n",
        "\n",
        "\n",
        "---\n",
        "\n",
        "\n",
        "\n",
        "---\n",
        "\n"
      ]
    }
  ]
}